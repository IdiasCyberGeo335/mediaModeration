{
 "cells": [
  {
   "cell_type": "code",
   "execution_count": 1,
   "metadata": {},
   "outputs": [],
   "source": [
    "import os\n",
    "import torch\n",
    "import whisper"
   ]
  },
  {
   "cell_type": "code",
   "execution_count": 2,
   "metadata": {},
   "outputs": [
    {
     "data": {
      "text/plain": [
       "device(type='cuda')"
      ]
     },
     "execution_count": 2,
     "metadata": {},
     "output_type": "execute_result"
    }
   ],
   "source": [
    "DEVICE = torch.device('cuda' if torch.cuda.is_available() else 'cpu')\n",
    "DEVICE"
   ]
  },
  {
   "cell_type": "code",
   "execution_count": 3,
   "metadata": {},
   "outputs": [],
   "source": [
    "small = \"small\"\n",
    "medium = \"medium\"\n",
    "base = \"base\"\n",
    "large = \"large\""
   ]
  },
  {
   "cell_type": "code",
   "execution_count": 4,
   "metadata": {},
   "outputs": [
    {
     "name": "stderr",
     "output_type": "stream",
     "text": [
      "/home/retro0/cyberspace/ENVIRONMENTS/back_venv/lib/python3.12/site-packages/whisper/__init__.py:150: FutureWarning: You are using `torch.load` with `weights_only=False` (the current default value), which uses the default pickle module implicitly. It is possible to construct malicious pickle data which will execute arbitrary code during unpickling (See https://github.com/pytorch/pytorch/blob/main/SECURITY.md#untrusted-models for more details). In a future release, the default value for `weights_only` will be flipped to `True`. This limits the functions that could be executed during unpickling. Arbitrary objects will no longer be allowed to be loaded via this mode unless they are explicitly allowlisted by the user via `torch.serialization.add_safe_globals`. We recommend you start setting `weights_only=True` for any use case where you don't have full control of the loaded file. Please open an issue on GitHub for any issues related to this experimental feature.\n",
      "  checkpoint = torch.load(fp, map_location=device)\n"
     ]
    }
   ],
   "source": [
    "model = whisper.load_model(medium, device=DEVICE)"
   ]
  },
  {
   "cell_type": "code",
   "execution_count": 5,
   "metadata": {},
   "outputs": [],
   "source": [
    "save_dir = '/home/retro0/cyberspace/projects/full-stack/diplom-2025/mediaModeration/app/back/models/whisper'"
   ]
  },
  {
   "cell_type": "code",
   "execution_count": 6,
   "metadata": {},
   "outputs": [
    {
     "name": "stdout",
     "output_type": "stream",
     "text": [
      "веса сохранены в /home/retro0/cyberspace/projects/full-stack/diplom-2025/mediaModeration/app/back/models/whisper/whisper_medium_weights.pth\n"
     ]
    }
   ],
   "source": [
    "model_path_meights = os.path.join(save_dir, \"whisper_medium_weights.pth\")\n",
    "torch.save(model.state_dict(), model_path_meights)\n",
    "print(f\"веса сохранены в {model_path_meights}\")"
   ]
  },
  {
   "cell_type": "code",
   "execution_count": 7,
   "metadata": {},
   "outputs": [
    {
     "name": "stdout",
     "output_type": "stream",
     "text": [
      "модель сохранена в /home/retro0/cyberspace/projects/full-stack/diplom-2025/mediaModeration/app/back/models/whisper/whisper_medium_full.pth\n"
     ]
    }
   ],
   "source": [
    "model_path_full = os.path.join(save_dir, \"whisper_medium_full.pth\")\n",
    "torch.save(model, model_path_full)\n",
    "print(f\"модель сохранена в {model_path_full}\")"
   ]
  },
  {
   "cell_type": "code",
   "execution_count": 8,
   "metadata": {},
   "outputs": [],
   "source": [
    "def transcribe_audio(model, audioPath):\n",
    "\n",
    "    if not os.path.exists(audioPath):\n",
    "        print(f\"Error: {audioPath} doesnt exist !\")\n",
    "        return 1\n",
    "    \n",
    "    result = model.transcribe(audioPath, word_timestamps=True)\n",
    "\n",
    "    wordTimestamps = {}\n",
    "\n",
    "    for segment in result['segments']:\n",
    "        for wordInfo in segment['words']:\n",
    "            word = wordInfo['word']\n",
    "            startTime = wordInfo['start']\n",
    "            endTime = wordInfo['end']\n",
    "            wordTimestamps[word] = (startTime, endTime)\n",
    "\n",
    "    for word, (startTime, endTime) in wordTimestamps.items():\n",
    "        print(f\"Слово '{word}', Начало: {startTime:.2f}s, Конец {endTime:.2f}s\")\n",
    "\n",
    "    return wordTimestamps"
   ]
  },
  {
   "cell_type": "markdown",
   "metadata": {},
   "source": [
    "### AudioPath"
   ]
  },
  {
   "cell_type": "code",
   "execution_count": 9,
   "metadata": {},
   "outputs": [],
   "source": [
    "audio_path = \"/home/retro0/cyberspace/projects/full-stack/diplom-2025/mediaModeration/app/back/saved_audio/IMG_9471.mp3\""
   ]
  },
  {
   "cell_type": "markdown",
   "metadata": {},
   "source": [
    "### WeightsModels"
   ]
  },
  {
   "cell_type": "code",
   "execution_count": 10,
   "metadata": {},
   "outputs": [
    {
     "name": "stderr",
     "output_type": "stream",
     "text": [
      "/tmp/ipykernel_97379/1945740769.py:3: FutureWarning: You are using `torch.load` with `weights_only=False` (the current default value), which uses the default pickle module implicitly. It is possible to construct malicious pickle data which will execute arbitrary code during unpickling (See https://github.com/pytorch/pytorch/blob/main/SECURITY.md#untrusted-models for more details). In a future release, the default value for `weights_only` will be flipped to `True`. This limits the functions that could be executed during unpickling. Arbitrary objects will no longer be allowed to be loaded via this mode unless they are explicitly allowlisted by the user via `torch.serialization.add_safe_globals`. We recommend you start setting `weights_only=True` for any use case where you don't have full control of the loaded file. Please open an issue on GitHub for any issues related to this experimental feature.\n",
      "  model.load_state_dict(torch.load(modelPath))\n"
     ]
    }
   ],
   "source": [
    "def load_weights(modelPath):\n",
    "    model = whisper.load_model(\"medium\", device=DEVICE)\n",
    "    model.load_state_dict(torch.load(modelPath))\n",
    "    return model\n",
    "\n",
    "model_weights_path = os.path.join(save_dir, \"whisper_medium_weights.pth\")\n",
    "model_with_weights = load_weights(model_weights_path)"
   ]
  },
  {
   "cell_type": "code",
   "execution_count": 11,
   "metadata": {},
   "outputs": [
    {
     "name": "stdout",
     "output_type": "stream",
     "text": [
      "\n",
      "Транскрипция с моделью, загруженной через веса:\n",
      "Слово ' Какой', Начало: 4.28s, Конец 4.54s\n",
      "Слово ' чудесный', Начало: 4.54s, Конец 5.32s\n",
      "Слово ' день!', Начало: 3.28s, Конец 3.60s\n",
      "Слово ' я!', Начало: 5.32s, Конец 5.58s\n",
      "Слово ' Не', Начало: 6.04s, Конец 6.24s\n",
      "Слово ' сделал', Начало: 6.24s, Конец 6.74s\n",
      "Слово ' нихуя!', Начало: 6.74s, Конец 7.48s\n"
     ]
    },
    {
     "data": {
      "text/plain": [
       "{' Какой': (np.float64(4.28), np.float64(4.54)),\n",
       " ' чудесный': (np.float64(4.54), np.float64(5.32)),\n",
       " ' день!': (np.float64(3.28), np.float64(3.6)),\n",
       " ' я!': (np.float64(5.32), np.float64(5.58)),\n",
       " ' Не': (np.float64(6.04), np.float64(6.24)),\n",
       " ' сделал': (np.float64(6.24), np.float64(6.74)),\n",
       " ' нихуя!': (np.float64(6.74), np.float64(7.48))}"
      ]
     },
     "execution_count": 11,
     "metadata": {},
     "output_type": "execute_result"
    }
   ],
   "source": [
    "# Пример транскрипции с моделью, загруженной через веса\n",
    "print(\"\\nТранскрипция с моделью, загруженной через веса:\")\n",
    "transcribe_audio(model_with_weights, audio_path)"
   ]
  },
  {
   "cell_type": "markdown",
   "metadata": {},
   "source": [
    "### FullModels"
   ]
  },
  {
   "cell_type": "code",
   "execution_count": 12,
   "metadata": {},
   "outputs": [
    {
     "name": "stderr",
     "output_type": "stream",
     "text": [
      "/tmp/ipykernel_97379/4242956634.py:3: FutureWarning: You are using `torch.load` with `weights_only=False` (the current default value), which uses the default pickle module implicitly. It is possible to construct malicious pickle data which will execute arbitrary code during unpickling (See https://github.com/pytorch/pytorch/blob/main/SECURITY.md#untrusted-models for more details). In a future release, the default value for `weights_only` will be flipped to `True`. This limits the functions that could be executed during unpickling. Arbitrary objects will no longer be allowed to be loaded via this mode unless they are explicitly allowlisted by the user via `torch.serialization.add_safe_globals`. We recommend you start setting `weights_only=True` for any use case where you don't have full control of the loaded file. Please open an issue on GitHub for any issues related to this experimental feature.\n",
      "  model = torch.load(model_path, map_location=DEVICE)  # загружаем модель целиком\n"
     ]
    }
   ],
   "source": [
    "# Загрузка полной модели\n",
    "def load_full_model(model_path):\n",
    "    model = torch.load(model_path, map_location=DEVICE)  # загружаем модель целиком\n",
    "    return model\n",
    "\n",
    "# Загрузка полной модели\n",
    "model_full_path = os.path.join(save_dir, \"whisper_medium_full.pth\")\n",
    "model_full = load_full_model(model_full_path)"
   ]
  },
  {
   "cell_type": "code",
   "execution_count": 13,
   "metadata": {},
   "outputs": [
    {
     "name": "stdout",
     "output_type": "stream",
     "text": [
      "\n",
      "Транскрипция с полной моделью:\n",
      "Слово ' Какой', Начало: 4.28s, Конец 4.54s\n",
      "Слово ' чудесный', Начало: 4.54s, Конец 5.32s\n",
      "Слово ' день!', Начало: 3.28s, Конец 3.60s\n",
      "Слово ' я!', Начало: 5.32s, Конец 5.58s\n",
      "Слово ' Не', Начало: 6.04s, Конец 6.24s\n",
      "Слово ' сделал', Начало: 6.24s, Конец 6.74s\n",
      "Слово ' нихуя!', Начало: 6.74s, Конец 7.48s\n"
     ]
    },
    {
     "data": {
      "text/plain": [
       "{' Какой': (np.float64(4.28), np.float64(4.54)),\n",
       " ' чудесный': (np.float64(4.54), np.float64(5.32)),\n",
       " ' день!': (np.float64(3.28), np.float64(3.6)),\n",
       " ' я!': (np.float64(5.32), np.float64(5.58)),\n",
       " ' Не': (np.float64(6.04), np.float64(6.24)),\n",
       " ' сделал': (np.float64(6.24), np.float64(6.74)),\n",
       " ' нихуя!': (np.float64(6.74), np.float64(7.48))}"
      ]
     },
     "execution_count": 13,
     "metadata": {},
     "output_type": "execute_result"
    }
   ],
   "source": [
    "\n",
    "# Пример транскрипции с полной моделью\n",
    "print(\"\\nТранскрипция с полной моделью:\")\n",
    "transcribe_audio(model_full, audio_path)"
   ]
  },
  {
   "cell_type": "code",
   "execution_count": null,
   "metadata": {},
   "outputs": [],
   "source": []
  }
 ],
 "metadata": {
  "kernelspec": {
   "display_name": "back_venv",
   "language": "python",
   "name": "python3"
  },
  "language_info": {
   "codemirror_mode": {
    "name": "ipython",
    "version": 3
   },
   "file_extension": ".py",
   "mimetype": "text/x-python",
   "name": "python",
   "nbconvert_exporter": "python",
   "pygments_lexer": "ipython3",
   "version": "3.12.3"
  }
 },
 "nbformat": 4,
 "nbformat_minor": 2
}
